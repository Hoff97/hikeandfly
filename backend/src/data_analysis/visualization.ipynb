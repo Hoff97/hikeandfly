{
 "cells": [
  {
   "cell_type": "code",
   "execution_count": null,
   "metadata": {},
   "outputs": [],
   "source": [
    "%load_ext autoreload"
   ]
  },
  {
   "cell_type": "code",
   "execution_count": null,
   "metadata": {},
   "outputs": [],
   "source": [
    "%autoreload 2"
   ]
  },
  {
   "cell_type": "code",
   "execution_count": null,
   "metadata": {},
   "outputs": [],
   "source": [
    "import numpy as np\n",
    "import matplotlib.pyplot as plt\n",
    "from src.data_analysis.search import search, path, SearchConfig, l2_distance\n",
    "from src.data_analysis.height_data import get_height_data_around_point, meter_in_arcseconds\n",
    "import math"
   ]
  },
  {
   "cell_type": "code",
   "execution_count": null,
   "metadata": {},
   "outputs": [],
   "source": [
    "grid = get_height_data_around_point(47.31701622137232, 11.278839111328125)\n",
    "\n",
    "grid = grid.downsample(0.5)"
   ]
  },
  {
   "cell_type": "code",
   "execution_count": null,
   "metadata": {},
   "outputs": [],
   "source": [
    "plt.imshow(grid.heights[::-1], interpolation='none')\n",
    "plt.show()\n",
    "\n",
    "grid.heights.min(), grid.heights.max()"
   ]
  },
  {
   "cell_type": "code",
   "execution_count": null,
   "metadata": {},
   "outputs": [],
   "source": [
    "start_ix = (grid.heights.shape[0]//2, grid.heights.shape[0]//2)\n",
    "start_height = grid.heights[start_ix] + 10\n",
    "\n",
    "state = search(start_ix, start_height, SearchConfig(grid, 1/10))"
   ]
  },
  {
   "cell_type": "code",
   "execution_count": null,
   "metadata": {},
   "outputs": [],
   "source": [
    "heights = np.zeros_like(grid.heights)\n",
    "heights[:] = np.nan\n",
    "\n",
    "for (a,b), node in state.explored.items():\n",
    "    if node.reachable:\n",
    "        heights[a,b] = node.height\n",
    "    else:\n",
    "        heights[a,b] = np.nan"
   ]
  },
  {
   "cell_type": "code",
   "execution_count": null,
   "metadata": {},
   "outputs": [],
   "source": [
    "plt.imshow(heights[::-1], interpolation='none')\n",
    "plt.show()"
   ]
  },
  {
   "cell_type": "code",
   "execution_count": null,
   "metadata": {},
   "outputs": [],
   "source": [
    "h = heights.copy()\n",
    "\n",
    "p = path((45, 35), state.explored)\n",
    "\n",
    "for a, b in zip(p, p[1:]):\n",
    "    length = l2_distance(a.ix, b.ix)\n",
    "\n",
    "    i_len = math.ceil(length)\n",
    "    x, y = np.linspace(a.ix[0], b.ix[0], i_len), np.linspace(a.ix[1], b.ix[1], i_len)\n",
    "\n",
    "    h[x.astype(int), y.astype(int)] = heights.max()+3\n",
    "    #h[x.astype(int) + 1, y.astype(int)] = heights.max()+3\n",
    "    #h[x.astype(int) - 1, y.astype(int)] = heights.max()+3\n",
    "    #h[x.astype(int), y.astype(int) + 1] = heights.max()+3\n",
    "    #h[x.astype(int), y.astype(int) - 1] = heights.max()+3\n",
    "\n",
    "plt.imshow(h, interpolation='none')\n",
    "plt.show()"
   ]
  },
  {
   "cell_type": "code",
   "execution_count": null,
   "metadata": {},
   "outputs": [],
   "source": [
    "X, Y = np.indices(grid.heights.T.shape)\n",
    "fig, ax = plt.subplots(figsize=(6,6))\n",
    "ax.contour(X,Y,heights.T, levels=50)\n",
    "plt.show()"
   ]
  },
  {
   "cell_type": "code",
   "execution_count": null,
   "metadata": {},
   "outputs": [],
   "source": [
    "agl = heights - grid.heights"
   ]
  },
  {
   "cell_type": "code",
   "execution_count": null,
   "metadata": {},
   "outputs": [],
   "source": [
    "plt.imshow(agl[::-1], interpolation='none')\n",
    "plt.show()"
   ]
  },
  {
   "cell_type": "code",
   "execution_count": null,
   "metadata": {},
   "outputs": [],
   "source": [
    "x = state.intersection_checks.copy()\n",
    "\n",
    "print(state.intersection_checks.sum(), state.intersection_checks.mean(), (state.intersection_checks>0).sum(), (state.intersection_checks>0).mean())\n",
    "\n",
    "plt.imshow(x > 0, interpolation='none')\n",
    "plt.show()"
   ]
  },
  {
   "cell_type": "code",
   "execution_count": null,
   "metadata": {},
   "outputs": [],
   "source": [
    "plt.imshow(x, interpolation='none')\n",
    "plt.show()"
   ]
  }
 ],
 "metadata": {
  "kernelspec": {
   "display_name": "experiments",
   "language": "python",
   "name": "python3"
  },
  "language_info": {
   "codemirror_mode": {
    "name": "ipython",
    "version": 3
   },
   "file_extension": ".py",
   "mimetype": "text/x-python",
   "name": "python",
   "nbconvert_exporter": "python",
   "pygments_lexer": "ipython3",
   "version": "3.11.4"
  },
  "orig_nbformat": 4
 },
 "nbformat": 4,
 "nbformat_minor": 2
}
